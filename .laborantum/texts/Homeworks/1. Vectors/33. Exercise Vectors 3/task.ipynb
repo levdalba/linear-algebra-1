{
 "cells": [
  {
   "cell_type": "code",
   "execution_count": 2,
   "metadata": {
    "deletable": false,
    "editable": false
   },
   "outputs": [],
   "source": [
    "%reload_ext autoreload\n",
    "%autoreload 2\n",
    "\n",
    "import sys\n",
    "import os\n",
    "from pathlib import Path\n",
    "\n",
    "path = Path('.').resolve()\n",
    "\n",
    "index = str(path).find('.laborantum')\n",
    "\n",
    "if index > 0:\n",
    "    path = str(path)[:index]\n",
    "\n",
    "os.chdir(path)\n",
    "\n",
    "!{sys.executable} -m pip -q install numpy json-tricks torch jupyter nbconvert"
   ]
  },
  {
   "cell_type": "code",
   "execution_count": 4,
   "metadata": {},
   "outputs": [],
   "source": [
    "import json_tricks\n",
    "\n",
    "path = Path(\".laborantum/texts/Homeworks/1. Vectors/33. Exercise Vectors 3\")"
   ]
  },
  {
   "cell_type": "code",
   "execution_count": 5,
   "metadata": {},
   "outputs": [],
   "source": [
    "debug_cases = json_tricks.load(str(path / \"testcases\" / \"debug_cases.json\"))\n",
    "public_cases = json_tricks.load(str(path / \"testcases\" / \"public_cases.json\"))"
   ]
  },
  {
   "cell_type": "code",
   "execution_count": 6,
   "metadata": {},
   "outputs": [],
   "source": [
    "import numpy as np\n",
    "import numpy.typing as npt\n",
    "from typing import Dict\n",
    "\n",
    "\n",
    "def vector_operations(a: npt.NDArray[np.number], b: npt.NDArray[np.number]) -> Dict:\n",
    "    exp = (2 * a) + b\n",
    "    dot_prod = np.dot(a, b)\n",
    "\n",
    "    length_a = np.linalg.norm(a)\n",
    "    length_b = np.linalg.norm(b)\n",
    "    angle = np.arccos(dot_prod / (length_a * length_b))\n",
    "\n",
    "    dir_a = a / length_a\n",
    "    dir_b = b / length_b\n",
    "\n",
    "    a_proj_b = (np.dot(a, b) / np.linalg.norm(b) ** 2) * b\n",
    "    b_proj_a = (np.dot(b, a) / np.linalg.norm(a) ** 2) * a\n",
    "\n",
    "    a_orth_b = a - a_proj_b\n",
    "    b_orth_a = b - b_proj_a\n",
    "\n",
    "    answer = {\n",
    "        \"expression\": exp,\n",
    "        \"dot_prod\": dot_prod,\n",
    "        \"length_a\": length_a,\n",
    "        \"length_b\": length_b,\n",
    "        \"angle\": angle,\n",
    "        \"dir_a\": dir_a,\n",
    "        \"dir_b\": dir_b,\n",
    "        \"a_proj_b\": a_proj_b,\n",
    "        \"b_proj_a\": b_proj_a,\n",
    "        \"a_orth_b\": a_orth_b,\n",
    "        \"b_orth_a\": b_orth_a,\n",
    "    }\n",
    "\n",
    "    return answer"
   ]
  },
  {
   "cell_type": "code",
   "execution_count": 1,
   "metadata": {},
   "outputs": [
    {
     "ename": "NameError",
     "evalue": "name 'debug_cases' is not defined",
     "output_type": "error",
     "traceback": [
      "\u001b[0;31m---------------------------------------------------------------------------\u001b[0m",
      "\u001b[0;31mNameError\u001b[0m                                 Traceback (most recent call last)",
      "Cell \u001b[0;32mIn[1], line 5\u001b[0m\n\u001b[1;32m      1\u001b[0m \u001b[38;5;28;01mimport\u001b[39;00m \u001b[38;5;21;01mtime\u001b[39;00m\n\u001b[1;32m      3\u001b[0m start \u001b[38;5;241m=\u001b[39m time\u001b[38;5;241m.\u001b[39mtime()\n\u001b[0;32m----> 5\u001b[0m debug_result \u001b[38;5;241m=\u001b[39m [vector_operations(\u001b[38;5;241m*\u001b[39m\u001b[38;5;241m*\u001b[39mx) \u001b[38;5;28;01mfor\u001b[39;00m x \u001b[38;5;129;01min\u001b[39;00m \u001b[43mdebug_cases\u001b[49m]\n\u001b[1;32m      6\u001b[0m answer \u001b[38;5;241m=\u001b[39m [vector_operations(\u001b[38;5;241m*\u001b[39m\u001b[38;5;241m*\u001b[39mx) \u001b[38;5;28;01mfor\u001b[39;00m x \u001b[38;5;129;01min\u001b[39;00m public_cases]\n\u001b[1;32m      8\u001b[0m \u001b[38;5;28mprint\u001b[39m(time\u001b[38;5;241m.\u001b[39mtime() \u001b[38;5;241m-\u001b[39m start, \u001b[38;5;124m\"\u001b[39m\u001b[38;5;124m<- Elapsed time\u001b[39m\u001b[38;5;124m\"\u001b[39m)\n",
      "\u001b[0;31mNameError\u001b[0m: name 'debug_cases' is not defined"
     ]
    }
   ],
   "source": [
    "import time\n",
    "\n",
    "start = time.time()\n",
    "\n",
    "debug_result = [vector_operations(**x) for x in debug_cases]\n",
    "answer = [vector_operations(**x) for x in public_cases]\n",
    "\n",
    "print(time.time() - start, \"<- Elapsed time\")"
   ]
  }
 ],
 "metadata": {
  "kernelspec": {
   "display_name": "Python 3",
   "language": "python",
   "name": "python3"
  },
  "language_info": {
   "codemirror_mode": {
    "name": "ipython",
    "version": 3
   },
   "file_extension": ".py",
   "mimetype": "text/x-python",
   "name": "python",
   "nbconvert_exporter": "python",
   "pygments_lexer": "ipython3",
   "version": "3.12.2"
  }
 },
 "nbformat": 4,
 "nbformat_minor": 2
}
